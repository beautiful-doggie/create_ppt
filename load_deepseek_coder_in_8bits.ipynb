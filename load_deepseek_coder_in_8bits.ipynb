{
  "nbformat": 4,
  "nbformat_minor": 0,
  "metadata": {
    "colab": {
      "provenance": [],
      "include_colab_link": true
    },
    "kernelspec": {
      "name": "python3",
      "display_name": "Python 3"
    },
    "language_info": {
      "name": "python"
    },
    "gpuClass": "standard",
    "accelerator": "GPU"
  },
  "cells": [
    {
      "cell_type": "markdown",
      "metadata": {
        "id": "view-in-github",
        "colab_type": "text"
      },
      "source": [
        "<a href=\"https://colab.research.google.com/github/beautiful-doggie/create_ppt/blob/main/load_deepseek_coder_in_8bits.ipynb\" target=\"_parent\"><img src=\"https://colab.research.google.com/assets/colab-badge.svg\" alt=\"Open In Colab\"/></a>"
      ]
    },
    {
      "cell_type": "code",
      "execution_count": null,
      "metadata": {
        "id": "Aep1KMF6dqdm",
        "colab": {
          "base_uri": "https://localhost:8080/"
        },
        "outputId": "9dad10c9-c311-43f9-fedd-3df667c2cbe7"
      },
      "outputs": [
        {
          "output_type": "stream",
          "name": "stdout",
          "text": [
            "^C\n",
            "^C\n",
            "^C\n",
            "^C\n"
          ]
        }
      ],
      "source": [
        "!pip install --quiet bitsandbytes\n",
        "!pip install --quiet --upgrade transformers # Install latest version of transformers\n",
        "!pip install --quiet --upgrade accelerate\n",
        "!pip install --quiet sentencepiece"
      ]
    },
    {
      "cell_type": "code",
      "source": [
        "!pip install transformers bitsandbytes accelerate"
      ],
      "metadata": {
        "id": "w6YTOisTFDsR"
      },
      "execution_count": null,
      "outputs": []
    },
    {
      "cell_type": "code",
      "source": [
        "from transformers import AutoModelForCausalLM, AutoTokenizer\n",
        "import torch\n",
        "\n",
        "model_name='deepseek-ai/deepseek-coder-6.7b-base'\n",
        "model=AutoModelForCausalLM.from_pretrained(\n",
        "    model_name,\n",
        "    device_map='auto',\n",
        "    load_in_8bit=True,\n",
        "    torch_dtype=torch.float16\n",
        ")\n",
        "tokenizer=AutoTokenizer.from_pretrained(model_name)"
      ],
      "metadata": {
        "id": "0btmA7NhrSJq"
      },
      "execution_count": null,
      "outputs": []
    },
    {
      "cell_type": "code",
      "source": [
        "import json\n",
        "import re\n",
        "import os\n",
        "\n",
        "topic=\"红黑树\"\n",
        "\n",
        "# Prompt 模板：一个字段一个小 prompt\n",
        "prompts = {\n",
        "    \"title\": \"你是一位计算机专业讲师，正在准备《数据结构》中关于“{topic}”的一页幻灯片。\\n请输出本页幻灯片的标题，字符串即可。\",\n",
        "    \"outline\": \"请列出关于“{topic}”的幻灯片内容提纲，使用 bullet point 每行一个要点。\",\n",
        "    \"explanation\": \"请用简洁清晰的语言，写一段适合课堂讲解的文字，解释“{topic}”的核心概念和原理。\",\n",
        "    \"code_example\": \"请给出一个用 Python 实现“{topic}”的代码示例，代码应简洁且注释清晰。\",\n",
        "    \"image_suggestion\": \"请描述一张适合插入在“{topic}”幻灯片中的示意图，例如图的结构、操作流程等。\"\n",
        "}\n"
      ],
      "metadata": {
        "id": "i6R7v24FbZrr"
      },
      "execution_count": null,
      "outputs": []
    },
    {
      "cell_type": "code",
      "source": [
        "# 创建保存目录\n",
        "from pathlib import Path\n",
        "\n",
        "topic_dir = Path(f\"./slides/{topic}\")\n",
        "topic_dir.mkdir(parents=True, exist_ok=True)\n",
        "\n",
        "# 生成每个字段的内容并保存为 txt\n",
        "for key, prompt_template in prompts.items():\n",
        "    prompt = prompt_template.format(topic=topic)\n",
        "    inputs = tokenizer(prompt, return_tensors=\"pt\").to(model.device)\n",
        "\n",
        "    output_ids = model.generate(\n",
        "        **inputs,\n",
        "        max_new_tokens=1024,\n",
        "        pad_token_id=tokenizer.eos_token_id,\n",
        "        do_sample=False\n",
        "    )\n",
        "\n",
        "    output_text = tokenizer.decode(output_ids[0], skip_special_tokens=True).strip()\n",
        "\n",
        "    with open(topic_dir / f\"{key}.txt\", \"w\", encoding=\"utf-8\") as f:\n",
        "        f.write(output_text)\n",
        "\n",
        "    print(f\"已保存：{topic}/{key}.txt\")\n"
      ],
      "metadata": {
        "id": "OJ241F8tbjMM"
      },
      "execution_count": null,
      "outputs": []
    },
    {
      "cell_type": "code",
      "source": [
        "# 解析文本，合成为 JSON\n",
        "import os\n",
        "import json\n",
        "\n",
        "def parse_outline(text):\n",
        "    lines = text.strip().splitlines()\n",
        "    return [\n",
        "        line.strip(\"-•●。1234567890.：: \").strip()\n",
        "        for line in lines if line.strip()\n",
        "    ]\n",
        "\n",
        "result = {}\n",
        "for key in prompts.keys():\n",
        "    path = topic_dir / f\"{key}.txt\"\n",
        "    if path.exists():\n",
        "        with open(path, \"r\", encoding=\"utf-8\") as f:\n",
        "            content = f.read().strip()\n",
        "            if key == \"outline\":\n",
        "                result[key] = parse_outline(content)\n",
        "            else:\n",
        "                result[key] = content\n",
        "    else:\n",
        "        result[key] = \"\"\n",
        "\n",
        "with open(topic_dir / f\"{topic}.json\", \"w\", encoding=\"utf-8\") as f:\n",
        "    json.dump(result, f, ensure_ascii=False, indent=4)\n",
        "\n",
        "print(f\"已合成为 JSON:{topic}/{topic}.json\")\n"
      ],
      "metadata": {
        "id": "7nDBRQMacVdW"
      },
      "execution_count": null,
      "outputs": []
    }
  ]
}